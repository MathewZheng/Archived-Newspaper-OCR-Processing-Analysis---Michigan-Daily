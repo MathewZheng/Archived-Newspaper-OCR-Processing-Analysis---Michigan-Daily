{
 "cells": [
  {
   "cell_type": "code",
   "execution_count": 17,
   "id": "e7cdb58d",
   "metadata": {},
   "outputs": [],
   "source": [
    "import cv2\n",
    "from PIL import Image\n",
    "import pytesseract"
   ]
  },
  {
   "cell_type": "code",
   "execution_count": 18,
   "id": "8d2fafe4",
   "metadata": {},
   "outputs": [],
   "source": [
    "im_file = \"bhl_midaily_midaily.2023.04.19.001_IMG00000001_full_4800_8400__0_default.jpg\"\n",
    "img = Image.open(im_file)"
   ]
  },
  {
   "cell_type": "code",
   "execution_count": 19,
   "id": "6caeb711",
   "metadata": {},
   "outputs": [
    {
     "data": {
      "text/plain": [
       "True"
      ]
     },
     "execution_count": 19,
     "metadata": {},
     "output_type": "execute_result"
    }
   ],
   "source": [
    "IMG = cv2.imread(\"bhl_midaily_midaily.2023.04.19.001_IMG00000001_full_4800_8400__0_default.jpg\")\n",
    "gray = cv2.cvtColor(IMG, cv2.COLOR_BGR2GRAY)\n",
    "cv2.imwrite(\"index_gray.png\", gray)"
   ]
  },
  {
   "cell_type": "code",
   "execution_count": 20,
   "id": "edfb0da4",
   "metadata": {},
   "outputs": [],
   "source": [
    "#ocr_result = pytesseract.image_to_string(img)\n"
   ]
  },
  {
   "cell_type": "code",
   "execution_count": 21,
   "id": "1d3a5d8c",
   "metadata": {},
   "outputs": [],
   "source": [
    "blur = cv2.GaussianBlur(gray, (7,7), 0)\n"
   ]
  },
  {
   "cell_type": "code",
   "execution_count": 22,
   "id": "925a3a54",
   "metadata": {},
   "outputs": [
    {
     "data": {
      "text/plain": [
       "True"
      ]
     },
     "execution_count": 22,
     "metadata": {},
     "output_type": "execute_result"
    }
   ],
   "source": [
    "cv2.imwrite(\"index_blur.png\", blur)"
   ]
  },
  {
   "cell_type": "code",
   "execution_count": 23,
   "id": "768bca0c",
   "metadata": {},
   "outputs": [],
   "source": [
    "thresh = cv2.threshold(blur,0,255,cv2.THRESH_BINARY_INV + cv2.THRESH_OTSU)[1]"
   ]
  },
  {
   "cell_type": "code",
   "execution_count": 24,
   "id": "bb5ba359",
   "metadata": {},
   "outputs": [
    {
     "data": {
      "text/plain": [
       "True"
      ]
     },
     "execution_count": 24,
     "metadata": {},
     "output_type": "execute_result"
    }
   ],
   "source": [
    "cv2.imwrite(\"index_thresh.png\", thresh)"
   ]
  },
  {
   "cell_type": "code",
   "execution_count": 25,
   "id": "faeb9886",
   "metadata": {},
   "outputs": [],
   "source": [
    "kernal = cv2.getStructuringElement(cv2.MORPH_RECT, (20,30))"
   ]
  },
  {
   "cell_type": "code",
   "execution_count": 26,
   "id": "a51a173b",
   "metadata": {},
   "outputs": [
    {
     "data": {
      "text/plain": [
       "True"
      ]
     },
     "execution_count": 26,
     "metadata": {},
     "output_type": "execute_result"
    }
   ],
   "source": [
    "cv2.imwrite(\"index_kernal.png\", kernal)"
   ]
  },
  {
   "cell_type": "code",
   "execution_count": 27,
   "id": "11ec6773",
   "metadata": {},
   "outputs": [],
   "source": [
    "dilate = cv2.dilate(thresh, kernal, iterations=1)"
   ]
  },
  {
   "cell_type": "code",
   "execution_count": 28,
   "id": "cabf664d",
   "metadata": {},
   "outputs": [
    {
     "data": {
      "text/plain": [
       "True"
      ]
     },
     "execution_count": 28,
     "metadata": {},
     "output_type": "execute_result"
    }
   ],
   "source": [
    "cv2.imwrite(\"index_dilate.png\", dilate)"
   ]
  },
  {
   "cell_type": "code",
   "execution_count": 29,
   "id": "f59cf8f1",
   "metadata": {},
   "outputs": [],
   "source": [
    "cnts = cv2.findContours(dilate, cv2.RETR_EXTERNAL, cv2.CHAIN_APPROX_SIMPLE)"
   ]
  },
  {
   "cell_type": "code",
   "execution_count": 30,
   "id": "f40c6dde",
   "metadata": {},
   "outputs": [],
   "source": [
    "cnts = cnts[0] if len(cnts) == 2 else cents[1]"
   ]
  },
  {
   "cell_type": "code",
   "execution_count": 31,
   "id": "47a16c1c",
   "metadata": {},
   "outputs": [],
   "source": [
    "cnts = sorted(cnts, key=lambda x: cv2.boundingRect(x)[0])"
   ]
  },
  {
   "cell_type": "code",
   "execution_count": 32,
   "id": "601623de",
   "metadata": {},
   "outputs": [
    {
     "data": {
      "text/plain": [
       "True"
      ]
     },
     "execution_count": 32,
     "metadata": {},
     "output_type": "execute_result"
    }
   ],
   "source": [
    "results = []\n",
    "for c in cnts: \n",
    "    x,y,w,h = cv2.boundingRect(c)\n",
    "    if h>500 and w>200:\n",
    "#     if h < 50 and w > 1000:\n",
    "        roi = IMG[y:y+h,x:x+h]\n",
    "        cv2.rectangle(IMG, (x,y), (x+w, y+h), (36, 255, 12), 2)\n",
    "        ocr_result = pytesseract.image_to_string(roi)\n",
    "        ocr_result = ocr_result.split(\"\\n\")\n",
    "        for item in ocr_result:\n",
    "            results.append(item)\n",
    "cv2.imwrite(\"index_bbox.png\", IMG)"
   ]
  },
  {
   "cell_type": "code",
   "execution_count": 17,
   "id": "c3c1ba96",
   "metadata": {},
   "outputs": [
    {
     "name": "stdout",
     "output_type": "stream",
     "text": [
      "['Scientists, who as a group are known', 'to be rather staid and cautious in their', 'predictions, are using words like', '“astronomical” and “‘awfully exciting”’', '‘to describe the# potentials of', 'biotechnology.', '', 'One University researcher even said', '', '“you kind of get the feeling that almost', '', 'anything is possible.’’', '', 'm Biotechnology involves the', 'manipulatior of genes within a living', 'organism to create an inherently dif-', 'ferent organism which may be helpful', 'to humans.', '', '_. PROGRESS already: is being made', 'toward modifying the genetics of plan-', 'ts, animals and even human beings.', '', '1GAUCY, 1b PLUIINISeS tU Nave a pruiunu', 'effect on medical science, human', 'health, and food production.', '', 'Research using recombinant DNA', 'technology—one of the fields of', 'biotechnology—has already produced', 'such valuable hormones and potential', 'drugs as insulin, interferon, and human', 'growth hormones, said Dale Oxender,', 'professor of biochemistry at the', 'University.', '', 'In the future—as early as five to ten', 'years: contends Oxender—applications', 'of genetic engineering will produce', '“super breeds’ of animals which will', 'raise the yields of beef, hog, poultry,', '', 'See BIOTECHNOLOGY, Page 3', '', 'TODAY-', '', 'See you in 82', '', 'OODBYE FOR AWHILE. The Daily won’t pub-', '- lish again until January 6, 1982 when classes re-', 'sume. Happenings for the rest of December start', '', 'on Page 3. Good luck on your finals, and have a°', '', '- happy New Year. : oO', '', 'Try, try again', 'A billboard Romeo who tried unsuccessfully to snare a', 'wife by advertising last spring says he’s going to try a dif-', 'ferent campaign to finda spouse. Dave Acklen, a 33-year-', 'old bachelor, last March posted this message on a portable', '+ sign: ‘‘Wife wanted, new or used, kids OK.”’ Thirty prospec-', 'tive brides responded, and Acklen predicted he would walk', 'down the aisle by the end of the year. But that was before he', 'met his callers. ‘‘About half of the women just wanted to go', 'out, and the other half wanted to get married. I was in-', '_| terested in some of them, but they weren’t the ones who', '‘| wanted to get married,” Acklen said. Acklen, an employee', 'of Houston Lighting & Power, proposed to one caller three', '', 'days after they met. But she turned him down, saying ‘‘I', '', '‘was too pushy,”’ he said. Acklen said he rented the movable', '', 'sign because his work hours prevented him from meeting', '', '- women interested in marriage and raising a family. On his', '', 'next campaign, Acklen said, he plans to advertise in', 'magazines, move the sign to another area and raise his', 'minimum age requirement from 18 to 22. O', '', 'Where the trees are-', '', 'Money doesn’t grow on trees, but a couple of trees in Fort', 'Lauderdale, Fla. are growing on a lot of money. The pair of', '', '60-year-old trees stand on a downtown corner where a', '', 'savings and loan association wanted to put a $25 million of-', 'fice building. The trees — a tamarind and a southern red', 'cedar — are among five trees in the city that enjoy protec-', 'ted status because of their age. ‘‘We literally cannot con-', 'struet the project at all, unless we can work something out ©', 'with the city about the trees,’’ said James Hartlev, chair-', 'man of Hollywood Federal Savings and Loan. In 1978 the', 'city commission passed a special resolution to safeguard', 'the trees by declaring them “practically irreplaceable and', 'therefore deserving of protection.’ Hartley said his com-', '', '', 'By MARK GINDIN', '', 'Molecular biology has a future in the', 'State of Michigan and the University', 'will likely play a major role in its', 'development, according to University', 'officials.', '', 'Because of the on- Sone focus by the', 'University on the high technology area', 'of molecular biology, the state already', 'has an advantage over many other', 'states in recruiting firms to diversify', 'the economy, said University', '', '« Biochemistry Professor Dale Oxender.', '', '_ GOVERNOR William Milliken set up.', '', 'a High Technology Task Force earlier', 'this year to investigate ways to diver-', '', '& sify the state economy. It branched into -', 'two separate committees, one devoted ~', '', 'to the development of robotics, the', 'other devoted to molecular biology.', 'Because the field of molecular', 'biology is so wide, it is unlikely that', ', research in the field would be cen-', 'tralized in the manner of the proposed', 'robotics institute, said Alan Price,', 'University Assistant Vice President for', '‘Research.', '& The Robotics Task Force has', '\\\\ proposed a $200 million robotics center', 'to be located in an appropriate area of', '', 'the state. Governor Milliken, although:', '', 'he has not picked the location yet, has', 'said that Ann Arbor is the leading can-', 'didate. ~ Si', '', 'ONE OF THE possibilities con-', 'sidered by the Molecular Biology Task', 'Force is to set up specialized centers at', 'universities already dominant in the', '', 'field, rather than at a single central.', '', 'location, Price said.', '', '. The University, for example, ‘is', '\" presently well-established inthe area of', '', 'medical molecular biology, while', '', 'See MOLECULAR, Page 2', '', 'From the Nort', '', 'Christmas wouldn’t be Christmas without trees to put the present', 'a merry one with their Balsam and Red Pines, which they sell on t', '', 'Reagan to dec', '', 'WASHINGTON (UPI) — President Reagan’ is expected to', 'decide “within a few days’” whether young American men will', 'havé to sign up for a peacetime draft, an administration', 'spokesman said yesterday.', '', 'Reagan campaigned firmly against the draft, and aides', 'hinted he will keep his word when a special committee', 'studying defense manpower need submits its report. Anti-', 'draft leaders say any such decision would be politically ex-', 'pedient and temporary.', '', '“WHAT WE’VE got is a presidential position in the cam-', 'paign and a commission studying it,’ said Larry Speakes,', 'deputy press secretary. ‘‘He will make a decision within a few', 'days.”', '', 'HE SAID THE decision. will be made “in. light of', '', 'the needs of the armed services”’ after the president receives', '', 'the study.', '‘“The draft has caught the administration in a bind,”', '', 'responded Jack Calhoun of the Committee Against', '', 'Ret', '', 'buil', 'ine’', 'saic', '', 'Tas', '', 'voli', 'late', 'in \\\\', '', 'will', '198(', 'vas', '', 'non', 'the', '', 'tat atbal', '', 'By JULIE HINDS', '', 'At least six out of nine geography', 'rofessors, whose department will be', 'discontinued in July, have received', 'unofficial word of their relocation to', 'other positions in the University.', '', 'When the Regents voted to discon-', 'tinue the geography department last', 'June, the administration promised to', 'make ‘‘good faith’ efforts to relocate', 'tenured professors in accordance with', 'University: program discontinuance', '@euicelines.', '', 'GEOGRAPHY Chairman Prof, John', 'Nystuen said he expected relocation of', 'all nine tenured professors, but added', 'that he himself had not officially found', '', '', '. By JULIE HINDS', '', 'At least six out of nine geography', 'professors, whose department will be', 'discontinued in July, have received', 'unofficial word of their relocation to', 'other positions in the University.', '', 'When the Regents voted to discon-', 'tinue the geography department last', 'June, the administration promised to', 'make ‘‘good faith’’ efforts to relocate', 'tenured professors in accordance with', 'University: program discontinuance', 'guidelines.', '', 'GEOGRAPHY Chairman Prof. John', 'Nystuen said he expected relocation of', 'all nine tenured professors, but added', 'that ne himself had not officially found', '', 'Molecular', 'biology', 'at *U’', '', 'to aid state', '', 'By MARK GINDIN', '', 'Molecular biology has a future in the', 'State of Michigan and the University', 'will likely play a major role in its', 'development, according to University', 'officials.', '', 'Because of the on-going focus by the', 'University on the high technology area', 'of molecular biology, the state already', 'has an advantage over many other', 'states in recruiting firms to diversify', 'the economy, said University', 'Biochemistry Professor Dale Oxender.', '', '_ GOVERNOR William Milliken set up.', '', 'a High Technology Task Force earlier', 'this year to investigate ways to diver-', '', 'sify the state economy. It branched into -', '', 'two separate committees, one devoted', '', 'to the development of robotics, the', '', 'other devoted to molecular biology.', 'Because the field of molecular', '', 'a position yet.', '', 'Regent’s bylaws state that tenured', '', '‘professors whose departments are', '', 'discontinued are eligible for dismissal.', '', 'Nystuen said there would be ‘‘wide', 'ramifications’ throughout the Univer-', 'sity if a tenured PFOtessop was not', 'relocated.', '', 'THE PROFESSORS said they i to', 'relocate in various LSA departments,', 'the Residential! College, and to a special', 'chair created for geography.', '', 'LSA‘Dean Peter Steiner, who is coor-', 'dinating relocation efforts said he', 'hoped to announce within a month the', 'final. results of the relocation.. He', '', '‘Having to be relocated', 'like having been shot an', 'pleased with the surgery. ’', '', 'University geogr', '', 'deciined to speculate on whether all', 'professors would be: successfully', 'relocated. .', '', 'Geography Prof. George Kish said', 'the position of the tenured faculty in the', '', 'geography department-was still uncer-', '', 'tain because none have received of-', 'ficial confirmation of a relocation.', '', '“WE CAI', \"we'll be tea\", 'sure,’’ Kish', 'reliable ver', 'replaced.”’', '', 'Prof. San', 'ministratior', 'tenured fact', '', '- From the North Pole...', '', 'Christmas wouldn’t be Christmas without trees to put the presents under. Al Taylor (left) and |', 'a merry one with their Balsam and Red Pines, which they sell on the corner of Detroit and. Divis', '', 'i', '', '', 'See youtin 6', 'OODBYE FO', '~ lish again unt', 'sume. Happer', 'on Page 3. G', 'happy New Year.', '', 'Try, try agai', '', '', 'potential', '', 'Although the research is still in its in-', '', 'effect on medical science, human', 'health, and food production.', '', 'Research using recombinant DNA', 'technology—one of the fields of', 'biotechnology—has already produced', 'such valuable hormones and potential', 'drugs as insulin, interferon, and human', 'growth hormones, said Dale Oxender,', 'professor of biochemistry at the', 'University.', '', '_ In the future—as early as five to ten', 'years: contends Oxender—applications', 'of genetic engineering will produce', '“super breeds’ of animals which will', 'raise the yields of beef, hog, poultry,', '', '', 'WASHINGTON (UPI) — President Reag:', 'decide “within a few days’’ whether young An', 'havé to sign up for a peacetime draft, an', 'spokesman said yesterday.', '', 'Reagan campaigned firmly against the |', 'hinted he will keep his word when a spe', 'studying defense manpower need submits i', 'draft leaders say any such decision would b', 'pedient and temporary.', '', '“WHAT WE’VE got is a presidential posi', 'paign and a commission studying it,” said', 'deputy press secretary. ‘‘He will make a decis', 'days.”', '', 'HE SAID THE decision. will be mal', 'the needs of the armed services” after the pr', 'the study.', '', '‘“The draft has caught the administrati', 'responded Jack Calhoun of the Comn', '', '', 'Money doesn’t grow on trees, k', 'Lauderdale, Fla. are growing on', '60-year-old trees stand on a d', 'savings and loan association wal', 'fice building. The trees — a tan', 'cedar — are among five trees in', 'ted status because of their age.', 'struct the project at all, unless v', 'with the city about the trees,’ s', 'man of Hollywood Federal Savi', 'city commission passed a speci', 'the trees by declaring them “‘pré', 'therefore deserving of protectio', '', '', 'teagan is expected to', '1g American men will', 't, an administration', '', 'the draft, and aides', '4 special committee', 'nits its report. Anti-', 'uld be politically ex-', '', '| position in the cam-', 'said Larry Speakes,', 'decision within a few', '', 'made ‘‘in light of', 'he president receives', '', 'tration. in a bind,”', '‘ommittee Against', '', '~', '', 'a', '', 'guaranteed', '', 'Registration and the Draft.', '', '“THE LOGIC of the administration’s massive military', 'buildup and interventionist foreign policy makes the draft', 'inevitable at some point in the not too distant future,’”’ Calhoun', 'said.', '', 'Reagan announced formation of the Defense Manpower', 'Task Force in May during a speech to West Point cadets.', '', 'He said then military manpower needs could be met with', 'volunteers if adequate pay and benefits were available. He', 'later approved a payhike for armed forces personnel and said', 'in November both enlistments and morale were up.', '', 'More than 800,000 draft-age young men have not complied', 'with the registration program, which began in.the summer of', '1980 as part of President -Carter’s Fesuenes to the Soviet in-', 'vasion of Afghanistan.', '', 'The Selective Service recently sent the naines of some 185', 'non- -registrants to the Justice Department for prosecution, but', 'the agency Thursday decided to put off any such legal action', 'pending the president’s decision.', '', 'By PAMELA KRAMER', 'A number of University students have had good', '', 'universities. This would ;', 'about a $7 million cut in sta', 'the University.', '', 'The reason for the possible', 'is the state’s revenue short!', 'first two months of its 19¢', 'year. The shortfall for Oct', 'was $30 million, said Dou;', 'deputy director of the', 'management and the budget.', '- THE REVENUE intake f', 'ber was just as bad, if not:\\\\', 'Thomas Clay, state budget di', '_Bob Sauve, budget assisté', 'President for Academic Af', 'Frye, said there was little t', 'sity administration could', 'ticipate the cuts except worry', '', 'Sauve said the -adminis', '', 'cause this year to question just how guaranteed a ]', '', 'Guaranteed Student Loan is.', '', 'Last March, 156 students sent loan applications for -', 'spring/summer term to Chase Manhattan Bank in', 'New York, and: about 60 of those loans still have not i', 'rough, according to', 'officer in the University’s Office of Financial Aid.', '', '“SOMEWHERE along the line, Chase completely :', 'blew it,” Nowak said. “It’s amazing that an in- 1', 'stitution like Chase Manhattan can get itself in so.', '', 'oy |', 'come', '', '(7,', '', 'deep.”', '', 'Because of the problems it has had with Chase, the', 'University now sends its students’ GSL applications (', 'to Lincoln First Bank in Rochester, N.Y.', '', '“As early as mid-May, we began suspecting', '', 'aine Nowak, a senior', '', 'something was really wrong (with Chase’s', 'processing) ,’’» Nowak explained. She called Chase to', 'try to find out what was wrong, but this attempt and', '', 'isa GSL?', '', '. “IT’S A VERY unfortunate situation,” said Harvey', 'Grotrian, director of the Office of Financial Aid.', '', 'dozens of subsequent calls and letters yielded no.', '', '', 'Food fight', '', 'School cafeteria manager Mar', 'troubles started when she introduc', 'made cornbread hash, tossed salad', 'she said. ‘‘It was delicious. And ji', 'sick out of the whole school...” |', 'Stonewall Junior High School stude', 'a sign to his back reading, ‘‘Boy', 'Food.” Lockaby took the youth to tt', 'principal, who asked Anne to rer', 'school lunch haters had their cause', 'wanted to be considered part of the', 'dared bring a lunch pail or brown |', '', '', 'By ANDREW CHAPMAN', '', 'Gov. William Milliken, facing huge', 'state revenue losses for the months of', 'October and November, may be forced', 'to issue another executive order budget', 'cut before this, summer, officials in', 'Lansing said yesterday.', '', 'A $300 million executive order budget', 'cut can be expected by late Februray or', 'early March, state representative', 'Perry Bullard (D-Ann Arbor) said.', '', 'MILLIKEN’S last executive order', 'cut, which came Oct. 22, slashed $4.5', 'million from the University’s budget.', 'That order eliminated a total $22', 'million from the state’s funds for higher', 'education.', '', 'Bullard said a budget reduction of |', '', 'approximately 5 percent could be ex-', 'pected for Michigan’s colleges and', '', 'universities. This would. amount to |', '', 'about a $7 million cut in state funds to', 'the University.', '', 'The reason for the possible reduction', 'is the state’s revenue shortfalls in the', 'first two months of its 1981-82 fiscal', 'year. The shortfall for October alone', 'was $30 million, said Doug Roberts,', 'deputy director of the office of', 'management and the budget.', '', 'THE REVENUE intake for Novem-', 'ber was just as bad, if not:worse, said', 'Thomas Clay, state budget director.', '', 'Bob Sauve, budget assistant to Vice', 'President for Academic Affairs Billy', 'Frye, said there was little the Univer-', 'sity administration could do to an-', 'ticipate the cuts except worry.', '', 'Sauve said the -administration is', '', '... Says State funds low', '', 'preparing to make selective cutbacks', 'at the University, but he added, “we', 'haven’t put together any figures yet', '(for specific program reductions).”’', '', '“WE HAVE A reallocation plan,', 'working on the assumption that this is', 'not going to be a very good year for the', 'state,’”’ Sauve said.', '', 'Frye will send a set of long range', 'retrenchment. plans to the University', 'community in January, Sauve added. _', '', 'Roberts explained that if the state’s', 'revenue collection continued at the', '', 'Spe SRVERE Paget', '', 'wake of Anne’s protest, brown bags were popping', 'everywhere. The protest was dubbed the “Brown ]', 'Society,’ and it has had an impact. On Wednesday,', 'example, sales of the once-popular spaghetti were dc', 'from the usual 400-500 to 195. ‘‘The boycott’s not goings', 'stop,” said student activist Bill Latham, 14. ‘‘Whet', 'we’re successful or not, a lot of people are going to conti', 'to bring their lunches.”’ But Lockaby thinks she’s gettin', 'bum rap. ‘‘Today we had hamburgers, french fries, lett', 'tomato, pickle and onion for 85 cents,’’ she said Thursd', '“‘Where else can you buy a hamburger for 85 cents?”’', '', 'On the inside', '', 'How a prestigious Illinois high school is coping s', 'cessfully with budget cuts, on the Opinion Page... A', 'has a rundown of movies to be released over the holid.', 'and previews Tuesday’s Dave Brubeck concert.', '', 'if you see news happen, call 76-DAILY', '', '', '... Says State funds low', '', 'preparing to make selective cu', 'at the University, but he addec', 'haven’t put together any figur', '(for specific program reductions)', '', '“WE HAVE A reallocation', 'working on the assumption that', 'not going to be a very good year |', 'state,’’ Sauve said.', '', 'Frye will send a set of long', 'retrenchment. plans to the Univ', 'community in January, Sauve adi', '', 'Roberts explained that if the', 'revenue collection continued ;', '', '']\n"
     ]
    }
   ],
   "source": [
    "print(results)"
   ]
  },
  {
   "cell_type": "code",
   "execution_count": 18,
   "id": "6f7188c5",
   "metadata": {},
   "outputs": [
    {
     "name": "stdout",
     "output_type": "stream",
     "text": [
      "preparing to make selective cu\n",
      "at the University, but he addec\n",
      "haven’t put together any figur\n",
      "(for specific program reductions)\n",
      "\n",
      "“WE HAVE A reallocation\n",
      "working on the assumption that\n",
      "not going to be a very good year |\n",
      "state,’’ Sauve said.\n",
      "\n",
      "Frye will send a set of long\n",
      "retrenchment. plans to the Univ\n",
      "community in January, Sauve adi\n",
      "\n",
      "Roberts explained that if the\n",
      "revenue collection continued ;\n",
      "\n",
      "\n"
     ]
    }
   ],
   "source": [
    "ocr_result_original = pytesseract.image_to_string(roi)\n",
    "print(ocr_result_original)"
   ]
  },
  {
   "cell_type": "code",
   "execution_count": null,
   "id": "79d58135",
   "metadata": {},
   "outputs": [],
   "source": []
  }
 ],
 "metadata": {
  "kernelspec": {
   "display_name": "Python 3 (ipykernel)",
   "language": "python",
   "name": "python3"
  },
  "language_info": {
   "codemirror_mode": {
    "name": "ipython",
    "version": 3
   },
   "file_extension": ".py",
   "mimetype": "text/x-python",
   "name": "python",
   "nbconvert_exporter": "python",
   "pygments_lexer": "ipython3",
   "version": "3.11.4"
  }
 },
 "nbformat": 4,
 "nbformat_minor": 5
}
